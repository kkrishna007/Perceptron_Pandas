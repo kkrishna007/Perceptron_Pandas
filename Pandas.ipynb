{
  "nbformat": 4,
  "nbformat_minor": 0,
  "metadata": {
    "colab": {
      "name": "Pandas",
      "provenance": []
    },
    "kernelspec": {
      "name": "python3",
      "display_name": "Python 3"
    },
    "language_info": {
      "name": "python"
    }
  },
  "cells": [
    {
      "cell_type": "markdown",
      "source": [
        "# Pandas Library\n",
        "\n"
      ],
      "metadata": {
        "id": "1sYUq3pm9Z19"
      }
    },
    {
      "cell_type": "markdown",
      "source": [
        "### What is Pandas ?\n",
        "Pandas is a python open source library that is widely used in the data science community to handle relational or labeled data both easily and intuitively in a tabular form. It has several useful features that make handling and preprocessing our data easier. This library is built on top of the NumPy library. It's fast and it has high performance & productivity for users.\n"
      ],
      "metadata": {
        "id": "7GcB-8-vJAet"
      }
    },
    {
      "cell_type": "markdown",
      "source": [
        "### Basics of Pandas\n",
        "\n",
        "The following line of code imports pandas and checks the pandas version"
      ],
      "metadata": {
        "id": "H5BexjMKLB7h"
      }
    },
    {
      "cell_type": "code",
      "source": [
        "import pandas as pd\n",
        "print(pd.__version__)\n",
        "\n",
        "#pd is an alias for pandas and it just helps in writing less code everytime we call a method of pandas"
      ],
      "metadata": {
        "id": "_rhDB0SQLeW7"
      },
      "execution_count": null,
      "outputs": []
    },
    {
      "cell_type": "markdown",
      "source": [
        "The primary data structures in *pandas* are implemented as two classes:\n",
        "\n",
        "  * **`DataFrame`**\n",
        "  * **`Series`**"
      ],
      "metadata": {
        "id": "NXycbW2mL3dz"
      }
    },
    {
      "cell_type": "markdown",
      "source": [
        "## Introduction to Series\n",
        "\n",
        "### What is a Series?\n",
        "\n",
        "* A Pandas Series is like a column in a table.\n",
        "* It is a one-dimensional array holding data of any type."
      ],
      "metadata": {
        "id": "VsY7gf-LJTYe"
      }
    },
    {
      "cell_type": "markdown",
      "source": [
        "#### Seriers Data Representation\n",
        "![image.png](data:image/png;base64,iVBORw0KGgoAAAANSUhEUgAAAMQAAAEzCAYAAABuRqx+AAANXElEQVR4nO3dfYwc913H8fee73y33vPDOWdsx8Zu7hzbMThxmxTcxsIoFMNBSXkoERAQCGiReFChQRXiUaIgCgIEQqqgEk8VtIRKtIJCShV01Caq1SQkOIXWjnDjoJbGjn2OfbG5nPHxx2+X/d7ePsycb3fvbt8vaaW58Xj2O7vzmfnNb353A5IkSZIkSZIkSZIkSZIkSZIkSZJWrDXdLkB17QIeBr4K+AIw091ypO65EzgJzJVffw2MdLUiqYsephqGOeAKcLirFfWQ/m4X0MIG4JuAbwHuAV5fnn8VeBb4T+BJ4BPA2W4U2AZfJm3f+vLP/wG81L1ytBwUgZ8BLjL/aNno9XB3ymyLfuDHgBeAU6QDQqGrFfWQ5fhBl4DfAn48zHsG+DTwYvnnNcBBYB/prPH9wF92sEapIwrAO6ge+U+S2s99Tf5PEdjU/tKkzhsFHiOF4UvAA90tR72m2ZG3G0aBHeXpfweeW+L1DwLfCPwZqY0+R7pO+TvgncBtGdaxj3RBPwf8UphfAr6PFOgr5ddjwHeV37eR+2l+ffSJjHXVKgB3Ae8F/jWs79PleXeRr8lcBI4Bf1qzvso6Pwq8e5G1qoF7SWeGOWASuH0J130nacdvtvN9Hng7zQ8UtYEoAG8GPtNkvb9HCkw97QhEibTTX2my3ivAr1PtzWrmcIvtq7yeJX0+K9Zy63Z9mXRndjvw9cAPAL8D3LjF9d5FOrJ9bfnnj5NueP0XKXTfDnw36cv8E2At8GHSl9xMAfgO4HeB3cAl4O9JZ7d7gLeSdrh3kc52f1xnHeeBn6uZt5m07dszbl9U2ynxHPAXwNPAEPB1wI+W3+PnSddf7wFebbC++4C/Im0fwGngn6h2cKwF3kD6jLXE1gC/yvyj2PuALbewzhHSzl9Z34+w8EDQB3wr1WZUsyNdPEO8SLVr+EPA68JyBVITqnKU/giwMWPN8T3ynCEKpPBVPr8PkHb8WmOkg0KrbutB4PfDcj9N8+ZfieV3kF3xtgIfY/6p+AVS8+R15O8q/s6wnl+k8RdWuzO9u8F7xZ21VZModhKcAvZnrHmxgbiD6rCPjwPbmix7H9UDwN9Qf3jIbeX3b0cTdllabhfVkO7K/jDw/jBvN+nM8QXgb4FvpvmRqqIEfFt5+nOkC79Gza/Kl/58+ec3ke6Ut/J+4Beo3+SYpnoH/SDtv+B8gGqz8KOku96NnAaOl6cPk84azewgHaxWteUYCEht8Z8iXWR/kDSUoeKtpKPuk8D30jwY20k7IsBTVNu9jXyR6g58B62baieA36Bx+/t/aL5TLqUhUlseUqifbLH8Varh3w7sqbPMNCk4kDol3kc6syzX/eaWLef23k1S994PAb8CPES6I13ZwQ+S2u0fIQ3z+GKddWwlhQrSxe2bgNeavOd6qjf5+mk9PP4acL3FMu8tv9qtBIyHnw9S//oh+sowXW9fmCF1BBwldRIcK79OkDod/oHUMXFzcSXrVvUD30C1XVt5fYz6p/MHa5bL82p0Yb3Y9n0ei3mP3cATLH57m40HO0TjLutTwE8CX5Fj+5atlXbqu0Hq8nsb6TrjUnn+24DvYeFFcLFzpXXdANmuqxbjWdL9mQnSwSc2YQ8Cf0C6RvuJNtagFmp7hep1a8abXn/I0gRkuZ4hYo9Qu2+QlUhNpw+x8Obfu1ieg0YzWWlniGiOdKFcsZ6F7eB44biuzr+vJq+RbvJB2tZ2HqlfBT5Jus+yD/jt8G8PkX4FdkVayYGodYOFF3dfIv0SEaTekRX7RWUwDZwpT98JvLFD7/vfwG+Szk6QeudGO/TeS24lB2INaRhCxRkWdn9OUe1+vIs0nKHRmKKVrjLIrtK+fwedG04xA1zo0Hv1lK8uv9a2WK4E/CzV9usLpOuFeu4m/RpmpY37RzQ/U6wFvobq2J1ay/UaAtKNxD+nuq3/QjpoNDrw9ZG2s9FnN0oKVbPvo4/UHV75Lh5jBZ8hllub+h7SQDRIQxBeIA1O+9/yvMrO+maqfexXSfcpTjZY53PAr5EuqteThnm/E/gUaYepHFF3kW5sVX6h/whw7lY3qIVh0s5U2xmwmWo35i7STcp4v2OGNOCu9qZfZezXPtId6/tJ21k7IG89qQn5xvJ7/TKpy7bWPtJnBPW/j12kbvDKBfxV0uf8csMtVi61f3Gi1eszwFto3fQrkIZ7fD7jei+SglfPUp4hYs/QUtwjqdhNGp+UdX3vabCeVkPTa7+LB1jBPUyw/M4Qj5NCcYB0M+g25v8JlnOkodUnSTvSM2QbGl7Zee8lDSt/O/P/iscl4N/K6/0k6bqj0XCMleAcaRtfTxrafpT0eVZ+9+Ek6eDwj8A/0/ivepwmfR/3k4Z27GZ+EJ8hfW4fJt29bnXXXpIkSZIkSZIkSZIkSZIkSZIkSZIkSZIkSZIkSZIkSZIkSZIkST0u09Ne5ubm1pMeNqKl97lCofASwNzc3FY696DEXvNUoVCYbrVQ1icI7QMmb60eNfCDwAfL08fCtJbWG0hPPGoq1yO1ZmdneeXy5UVXpKrS8DDFYhHS477muXHjxuXZmZnzC/+X8hosFnf29fWty7p8rkBcnpriiePH81elBQ4eOsT4nj0wv9naB3DllVeeOjE5+WhXCltljk1MPFIslfaT8ZnsK/nB7dKSMxBSYCCkwEBIgYGQAgMhBQZCCgyEFBgIKTAQUmAgpMBASIGBkAIDIQUGQgoMhBQYCCkwEFJgIKTAQEiBgZACAyEFBkIKDIQUGAgpMBBSYCCkwEBIgYGQAgMhBQZCCgyEFBgIKTAQUmAgpMBASIGBkAIDIQW5Hsu7aWSEI0ePtquWnlIaHq5MxudU3wTYsHHjfccmJnZ1vKhVaLBY3FmevJll+VyBGBgYYHTLltxFqalC7Yz+/v5N/f39m7pRTK/L2mTK/CR45bYhTBuC9illWShrIK7dQiFq7kqDaS2t61kWytVkunD+PE8cP764cjTPwUOHGN+zp+6/Xbp48fETk5OPdrikVenYxMQjxVJpf9bl7WWSAgMhBQZCCgyEFBgIKTAQUmAgpMBASIGBkAIDIQUGQgoMhBQYCCkwEFJgIKTAQEiBgZACAyEFBkIKDIQUGAgpMBBSYCCkwEBIgYGQAgMhBQZCCgyEFBgIKTAQUmAgpMBASIGBkAIDIQUGQgoMhBQYCCkwEFKQ67G8m0ZGOHL0aLtq6Sml4eHK5FyYfRNgw8aN9x2bmNjV8aJWocFicWd58maW5XMFYmBggNEtW3IXpaYKtTP6+/s39ff3b+pGMb0ua5NpXVur6G0bwrQhaJ9SloWyBuLaLRSi5q40mNbSup5loVxNpgvnz/PE8eOLK0fzHDx0iPE9e+r+26WLFx8/MTn5aIdLWpWOTUw8UiyV9mdd3l4mKTAQUmAgpMBASIGBkAIDIQUGQgoMhBQYCCkwEFJgIKTAQEiBgZACAyEFBkIKDIQUGAgpMBBSYCCkwEBIgYGQAgMhBQZCCgyEFBgIKTAQUmAgpMBASIGBkAIDIQUGQgoMhBQYCCkwEFJgIKTAQEiBgZACAyEFuR7LWyqV2H/gQLtq6SmbN2+uN3sOoFQqjR0+cuTBzla0Og0MDo6WJ+eyLJ8rEOsMREcMDg2Nbd22bazbdfSirIEoAufaWUgPW1cz7efcHkNZFsoaiOvA7sXXoiauhelX8XNul+tZFsrVZLo8NcVnT51aXDmaZ2x8nNt37oQ6bdvp6emnXzx7drLzVa0+Y3v3PjQ0NLQr6/K5AjE7O8vLFy7kr0oLbN+xozJZCLP7AF6bmZl6/syZ0x0vahW6Y3y8cgbO1KNqt6sUGAgpMBBSYCCkwEBIgYGQAgMhBQZCCgyEFBgIKTAQUmAgpMBASIGBkAIDIQUGQgoMhBQYCCkwEFJgIKTAQEiBgZACAyEFBkIKDIQUGAgpMBBSYCCkwEBIgYGQAgMhBQZCCgyEFBgIKTAQUmAgpMBASEGup5CWSiX2HzjQrlp6yubNm+vNngMolUpjh48cebCzFa1OA4ODo+XJBY8/ridXINYZiI4YHBoa27pt21i36+hFWQNRBM61s5Aetq5m2s+5PYayLJQ1ENeB3YuvRU1cC9Ov4ufcLtezLJSryXR5aorPnjq1uHI0z9j4OLfv3Al12rbT09NPv3j27GTnq1p9xvbufWhoaGhX1uVzBWJ2dpaXL1zIX5UW2L5jR2WyEGb3Abw2MzP1/Jkzpzte1Cp0x/h45QycqUfVblcpMBBSYCCkwEBIgYGQAgMhBQZCCgyEFBgIKTAQUmAgpMBASIGBkAIDIQUGQgoMhBQYCCkwEFJgIKTAQEiBgZACAyEFBkIKDIQUGAgpMBBSYCCkwEBIgYGQAgMhBQZCCgyEFBgIKTAQUmAgpMBASIGBkIJcTyEdGBhgdMuWdtXSU4pD//8c8fhY3psAawcHR+7cu3dfx4tahQpr1qwrT97MsnyuQGwaGeHI0aO5i1JThdoZw8PD9x64++57u1FMr8saiKvAp9pZSA/7cph+CT/ndpnudgGSJEmSJEmSJEmSJEmSJEmSpCXzf+3uwTmnR02QAAAAAElFTkSuQmCC)"
      ],
      "metadata": {
        "id": "zAAXpZDnruny"
      }
    },
    {
      "cell_type": "markdown",
      "source": [
        "### Creating a Series"
      ],
      "metadata": {
        "id": "6gGYWnO_AmKa"
      }
    },
    {
      "cell_type": "code",
      "source": [
        "import pandas as pd\n",
        " \n",
        "# Creating empty series\n",
        "ser = pd.Series()\n",
        "   \n",
        "print(ser)"
      ],
      "metadata": {
        "id": "be2pVxbPLcIQ"
      },
      "execution_count": null,
      "outputs": []
    },
    {
      "cell_type": "code",
      "source": [
        "# Creating a series from a list\n",
        "data = [\"M\",\"O\",\"S\",\"S\"]\n",
        "ser = pd.Series(data)\n",
        "\n",
        "print(ser)"
      ],
      "metadata": {
        "id": "cK7Rxr0Jo1km"
      },
      "execution_count": null,
      "outputs": []
    },
    {
      "cell_type": "code",
      "source": [
        "# providing a name to the labels with help of index arguement\n",
        "ser = pd.Series(data, index =[\"a\",\"b\",\"c\",\"d\"])\n",
        "print(ser)"
      ],
      "metadata": {
        "id": "8U8Sm2Kyo3un"
      },
      "execution_count": null,
      "outputs": []
    },
    {
      "cell_type": "markdown",
      "source": [
        "### Accessing a Series\n",
        "\n",
        "There are two ways through which we can access element of series, they are :\n",
        "\n",
        "* Accessing Element from Series with Position\n",
        "* Accessing Element Using Label (index)"
      ],
      "metadata": {
        "id": "XvolSJAnaacI"
      }
    },
    {
      "cell_type": "markdown",
      "source": [
        "#### Accessing Element from Series with Position\n",
        "\n",
        "We use the index operator [ ] to access an element in a series. It must be an integer.                                \n",
        "In order to access multiple elements from a series, we use Slice operation."
      ],
      "metadata": {
        "id": "FyAjzQpnejkE"
      }
    },
    {
      "cell_type": "code",
      "source": [
        "# import pandas\n",
        "import pandas as pd\n",
        " \n",
        "# creating simple array\n",
        "data = [\"m\",\"a\",\"n\",\"i\",\"p\",\"a\",\"l\"]\n",
        "ser = pd.Series(data)\n",
        "\n",
        "# retrieve the first element\n",
        "print(ser[0]) "
      ],
      "metadata": {
        "id": "xV3q0maPfAI2"
      },
      "execution_count": null,
      "outputs": []
    },
    {
      "cell_type": "code",
      "source": [
        "#retrieve the first five elements\n",
        "print(ser[:5])"
      ],
      "metadata": {
        "id": "8RjDBAIlHiBd"
      },
      "execution_count": null,
      "outputs": []
    },
    {
      "cell_type": "code",
      "source": [
        "#retrieve the last three elements\n",
        "print(ser[-3:])"
      ],
      "metadata": {
        "id": "F864tsryHhhX"
      },
      "execution_count": null,
      "outputs": []
    },
    {
      "cell_type": "markdown",
      "source": [
        "####  Accessing Element Using Label (index)\n",
        "\n",
        "In order to access an element from series, we have to set values by index label. A Series is basically like a dictionary in which you can get and set values by index label."
      ],
      "metadata": {
        "id": "blA-QGdNhlSn"
      }
    },
    {
      "cell_type": "code",
      "source": [
        "# import pandas\n",
        "import pandas as pd\n",
        " \n",
        "# creating simple array\n",
        "data = [\"m\",\"a\",\"n\",\"i\",\"p\",\"a\",\"l\"]\n",
        "ser = pd.Series(data,index=[11,12,13,14,15,16,17])"
      ],
      "metadata": {
        "id": "krlI7fH5iFTj"
      },
      "execution_count": null,
      "outputs": []
    },
    {
      "cell_type": "code",
      "source": [
        "# accessing a element using index element\n",
        "print(ser[16])"
      ],
      "metadata": {
        "id": "fysFIcAXHXr_"
      },
      "execution_count": null,
      "outputs": []
    },
    {
      "cell_type": "code",
      "source": [
        "# accessing a multiple element using index element\n",
        "print(ser[[12, 13, 14, 15]])"
      ],
      "metadata": {
        "id": "mxfCmUb0HXbR"
      },
      "execution_count": null,
      "outputs": []
    },
    {
      "cell_type": "markdown",
      "source": [
        "## Introduction to Dataframes\n",
        "\n",
        "### What is a DataFrame ?\n",
        "\n",
        "A Pandas DataFrame is a 2 dimensional data structure, like a 2 dimensional array, or a table with rows and columns.\n",
        "\n",
        "Pandas DataFrame consists of three principal components:-\n",
        "* Data \n",
        "* Rows\n",
        "* Columns"
      ],
      "metadata": {
        "id": "r04rYqTT_3fM"
      }
    },
    {
      "cell_type": "markdown",
      "source": [
        "#### Dataframe Table Representation\n",
        "\n",
        "![image.png](data:image/png;base64,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)"
      ],
      "metadata": {
        "id": "DJdP9RWGrViv"
      }
    },
    {
      "cell_type": "markdown",
      "source": [
        "### Creating a DataFrame"
      ],
      "metadata": {
        "id": "gvOjUCCYATvX"
      }
    },
    {
      "cell_type": "markdown",
      "source": [
        "#### Creating an empty dataframe\n",
        "The most basic DataFrame, that can be created is an Empty Dataframe. An Empty Dataframe can be created just by calling a dataframe constructor."
      ],
      "metadata": {
        "id": "oa8zrnhcYfkZ"
      }
    },
    {
      "cell_type": "code",
      "source": [
        "# import pandas as pd\n",
        "import pandas as pd\n",
        " \n",
        "# Calling DataFrame constructor\n",
        "df = pd.DataFrame()\n",
        " \n",
        "print(df)"
      ],
      "metadata": {
        "colab": {
          "base_uri": "https://localhost:8080/"
        },
        "id": "xzBgL7RjYunK",
        "outputId": "bfd772a4-e3ea-4873-a315-635abfd6763c"
      },
      "execution_count": null,
      "outputs": [
        {
          "output_type": "stream",
          "name": "stdout",
          "text": [
            "Empty DataFrame\n",
            "Columns: []\n",
            "Index: []\n"
          ]
        }
      ]
    },
    {
      "cell_type": "markdown",
      "source": [
        "#### Creating a dataframe using List\n",
        "DataFrame can also be created using a single list or a list of lists. "
      ],
      "metadata": {
        "id": "BGd9dhABY2gJ"
      }
    },
    {
      "cell_type": "code",
      "source": [
        "# import pandas as pd\n",
        "import pandas as pd\n",
        " \n",
        "# list of strings\n",
        "lst = [\"CSE\",\"AIML\",\"IT\",\"DSE\",\"CCE\",\"ECE\",\"EEE\",\"MECH\",\"CIVIL\"]\n",
        " \n",
        "# Calling DataFrame constructor on list\n",
        "df = pd.DataFrame(lst)\n",
        "print(df)"
      ],
      "metadata": {
        "id": "W7nPJC7dZBKt",
        "colab": {
          "base_uri": "https://localhost:8080/"
        },
        "outputId": "0fbb7ddd-de2e-4d73-c024-307cf3c0544a"
      },
      "execution_count": null,
      "outputs": [
        {
          "output_type": "stream",
          "name": "stdout",
          "text": [
            "       0\n",
            "0    CSE\n",
            "1   AIML\n",
            "2     IT\n",
            "3    DSE\n",
            "4    CCE\n",
            "5    ECE\n",
            "6    EEE\n",
            "7   MECH\n",
            "8  CIVIL\n"
          ]
        }
      ]
    },
    {
      "cell_type": "markdown",
      "source": [
        "#### Creating DataFrame from dict of ndarray/lists\n",
        "To create DataFrame from dict of narray/list, all the narray must be of same length. If index is passed then the length index should be equal to the length of arrays. If no index is passed, then by default, index will be range(n) where n is the array length. "
      ],
      "metadata": {
        "id": "BTOtqIjpZuKh"
      }
    },
    {
      "cell_type": "code",
      "source": [
        "# Creating DataFrame from dict narray / lists By default addresses.\n",
        " \n",
        "import pandas as pd\n",
        " \n",
        "# initialise data of lists.\n",
        "data = {'Name':[\"Aman\", \"Rohan\", \"Mohan\",\"Pranav\"], 'Age':[20, 21, 19, 18]}\n",
        " \n",
        "# Create DataFrame\n",
        "df = pd.DataFrame(data)\n",
        " \n",
        "# Print the output.\n",
        "print(df)"
      ],
      "metadata": {
        "id": "TM5SQr1paEss",
        "outputId": "f3ffe3e4-4356-4622-d219-a5007c21fbfe",
        "colab": {
          "base_uri": "https://localhost:8080/"
        }
      },
      "execution_count": null,
      "outputs": [
        {
          "output_type": "stream",
          "name": "stdout",
          "text": [
            "     Name  Age\n",
            "0    Aman   20\n",
            "1   Rohan   21\n",
            "2   Mohan   19\n",
            "3  Pranav   18\n"
          ]
        }
      ]
    },
    {
      "cell_type": "markdown",
      "source": [
        "#### Create pandas dataframe from lists using dictionary: \n",
        "We can create pandas dataframe from lists using dictionary using pd.DataFrame(). With this method in Pandas we can transform a dictionary of list to a dataframe."
      ],
      "metadata": {
        "id": "sZqZuV_bas6X"
      }
    },
    {
      "cell_type": "code",
      "source": [
        "import pandas as pd\n",
        "\n",
        "#dictionary of lists\n",
        "data = {\n",
        "  \"name\": [\"Aman\", \"Rohan\", \"Mohan\",\"Pranav\"],\n",
        "  \"Age\":[20, 21, 19, 18],\n",
        "  \"branch\": [\"CSE\",\"CCE\",\"EEE\",\"MECH\"],\n",
        "  \"section\": [\"A\",\"E\",\"K\",\"M\"],\n",
        "}\n",
        "\n",
        "#load data into a DataFrame object:\n",
        "df = pd.DataFrame(data)\n",
        "\n",
        "print(df)"
      ],
      "metadata": {
        "colab": {
          "base_uri": "https://localhost:8080/"
        },
        "id": "VwiddIQmA0-X",
        "outputId": "b02c70ca-cbfe-45f7-e93f-379ed465266b"
      },
      "execution_count": null,
      "outputs": [
        {
          "output_type": "stream",
          "name": "stdout",
          "text": [
            "     name  Age branch section\n",
            "0    Aman   20    CSE       A\n",
            "1   Rohan   21    CCE       E\n",
            "2   Mohan   19    EEE       K\n",
            "3  Pranav   18   MECH       M\n"
          ]
        }
      ]
    },
    {
      "cell_type": "markdown",
      "source": [
        "### Locating a Row\n",
        "As you can see from the result above, DataFrames are like a table with rows and columns.\n",
        "\n",
        "Pandas use the `loc` attribute to return one or more specified row(s)"
      ],
      "metadata": {
        "id": "p8EItCeaDbVN"
      }
    },
    {
      "cell_type": "code",
      "source": [
        "#refer to the row index:\n",
        "print(df.loc[0])\n",
        "\n",
        "# Note: This example returns a Series."
      ],
      "metadata": {
        "id": "8ZXfgk3yG9sq"
      },
      "execution_count": null,
      "outputs": []
    },
    {
      "cell_type": "code",
      "source": [
        "#use a list of indexes:\n",
        "print(df.loc[[0, 1]])\n",
        "\n",
        "# Note: When using [], the result is a Pandas DataFrame."
      ],
      "metadata": {
        "id": "JSFDeUcqHPqm"
      },
      "execution_count": null,
      "outputs": []
    },
    {
      "cell_type": "markdown",
      "source": [
        "### Named Indexes\n",
        "With the index argument, you can name your own indexes."
      ],
      "metadata": {
        "id": "1uKtKCgFVzXW"
      }
    },
    {
      "cell_type": "markdown",
      "source": [
        "#### Naming your own indexes \n",
        "Add a list of names to give each row a name:"
      ],
      "metadata": {
        "id": "CxhRmGR4V-jk"
      }
    },
    {
      "cell_type": "code",
      "source": [
        "import pandas as pd\n",
        "\n",
        "data = {\n",
        "  \"name\": [\"Aman\", \"Rohan\", \"Mohan\",\"Pranav\"],\n",
        "  \"branch\": [\"CSE\",\"CCE\",\"EEE\",\"MECH\"],\n",
        "  \"section\": [\"A\",\"E\",\"K\",\"M\"],\n",
        "}\n",
        "\n",
        "#listing the named indexes\n",
        "df = pd.DataFrame(data,index=[\"Student1\",\"Student2\",\"Student3\",\"Student4\"])\n",
        "\n",
        "print(df) "
      ],
      "metadata": {
        "id": "VoTm_3uGWEhl"
      },
      "execution_count": null,
      "outputs": []
    },
    {
      "cell_type": "markdown",
      "source": [
        "#### Locating Named Indexes\n",
        "Use the named index in the `loc` attribute to return the specified row(s)."
      ],
      "metadata": {
        "id": "v3UuFF-nW6xJ"
      }
    },
    {
      "cell_type": "code",
      "source": [
        "#refer to the named index:\n",
        "print(df.loc[\"Student1\"])"
      ],
      "metadata": {
        "id": "7ijrZodzXFXS"
      },
      "execution_count": null,
      "outputs": []
    },
    {
      "cell_type": "markdown",
      "source": [
        "## Read/Write Tabular Data in Pandas\n",
        "![ReadWrite](https://drive.google.com/uc?export=view&id=1PqwknPA02NATebN2lD9RAqUoBzFzLzUW)"
      ],
      "metadata": {
        "id": "8ksJiEOZ51eg"
      }
    },
    {
      "cell_type": "markdown",
      "source": [
        "#### Reading CSV Files\n",
        "A simple way to store big data sets is to use CSV files (comma separated files).\n",
        "\n",
        "CSV files contains plain text and is a well know format that can be read by everyone including Pandas.\n",
        "\n",
        "In our examples we will be using a CSV file called 'data.csv'.\n"
      ],
      "metadata": {
        "id": "j-pFH1Ji9eSz"
      }
    },
    {
      "cell_type": "code",
      "source": [
        "import pandas as pd\n",
        "\n",
        "df = pd.read_csv('data.csv')\n",
        "\n",
        "print(df.to_string())\n"
      ],
      "metadata": {
        "colab": {
          "base_uri": "https://localhost:8080/",
          "height": 380
        },
        "id": "zDq73UoC53iM",
        "outputId": "31251010-763c-4474-9bd5-7beea86d3910"
      },
      "execution_count": 7,
      "outputs": [
        {
          "output_type": "error",
          "ename": "FileNotFoundError",
          "evalue": "ignored",
          "traceback": [
            "\u001b[0;31m---------------------------------------------------------------------------\u001b[0m",
            "\u001b[0;31mFileNotFoundError\u001b[0m                         Traceback (most recent call last)",
            "\u001b[0;32m<ipython-input-7-aaff638b517e>\u001b[0m in \u001b[0;36m<module>\u001b[0;34m()\u001b[0m\n\u001b[1;32m      1\u001b[0m \u001b[0;32mimport\u001b[0m \u001b[0mpandas\u001b[0m \u001b[0;32mas\u001b[0m \u001b[0mpd\u001b[0m\u001b[0;34m\u001b[0m\u001b[0;34m\u001b[0m\u001b[0m\n\u001b[1;32m      2\u001b[0m \u001b[0;34m\u001b[0m\u001b[0m\n\u001b[0;32m----> 3\u001b[0;31m \u001b[0mdf\u001b[0m \u001b[0;34m=\u001b[0m \u001b[0mpd\u001b[0m\u001b[0;34m.\u001b[0m\u001b[0mread_csv\u001b[0m\u001b[0;34m(\u001b[0m\u001b[0;34m'data.csv'\u001b[0m\u001b[0;34m)\u001b[0m\u001b[0;34m\u001b[0m\u001b[0;34m\u001b[0m\u001b[0m\n\u001b[0m\u001b[1;32m      4\u001b[0m \u001b[0;34m\u001b[0m\u001b[0m\n\u001b[1;32m      5\u001b[0m \u001b[0mprint\u001b[0m\u001b[0;34m(\u001b[0m\u001b[0mdf\u001b[0m\u001b[0;34m.\u001b[0m\u001b[0mto_string\u001b[0m\u001b[0;34m(\u001b[0m\u001b[0;34m)\u001b[0m\u001b[0;34m)\u001b[0m\u001b[0;34m\u001b[0m\u001b[0;34m\u001b[0m\u001b[0m\n",
            "\u001b[0;32m/usr/local/lib/python3.7/dist-packages/pandas/util/_decorators.py\u001b[0m in \u001b[0;36mwrapper\u001b[0;34m(*args, **kwargs)\u001b[0m\n\u001b[1;32m    309\u001b[0m                     \u001b[0mstacklevel\u001b[0m\u001b[0;34m=\u001b[0m\u001b[0mstacklevel\u001b[0m\u001b[0;34m,\u001b[0m\u001b[0;34m\u001b[0m\u001b[0;34m\u001b[0m\u001b[0m\n\u001b[1;32m    310\u001b[0m                 )\n\u001b[0;32m--> 311\u001b[0;31m             \u001b[0;32mreturn\u001b[0m \u001b[0mfunc\u001b[0m\u001b[0;34m(\u001b[0m\u001b[0;34m*\u001b[0m\u001b[0margs\u001b[0m\u001b[0;34m,\u001b[0m \u001b[0;34m**\u001b[0m\u001b[0mkwargs\u001b[0m\u001b[0;34m)\u001b[0m\u001b[0;34m\u001b[0m\u001b[0;34m\u001b[0m\u001b[0m\n\u001b[0m\u001b[1;32m    312\u001b[0m \u001b[0;34m\u001b[0m\u001b[0m\n\u001b[1;32m    313\u001b[0m         \u001b[0;32mreturn\u001b[0m \u001b[0mwrapper\u001b[0m\u001b[0;34m\u001b[0m\u001b[0;34m\u001b[0m\u001b[0m\n",
            "\u001b[0;32m/usr/local/lib/python3.7/dist-packages/pandas/io/parsers/readers.py\u001b[0m in \u001b[0;36mread_csv\u001b[0;34m(filepath_or_buffer, sep, delimiter, header, names, index_col, usecols, squeeze, prefix, mangle_dupe_cols, dtype, engine, converters, true_values, false_values, skipinitialspace, skiprows, skipfooter, nrows, na_values, keep_default_na, na_filter, verbose, skip_blank_lines, parse_dates, infer_datetime_format, keep_date_col, date_parser, dayfirst, cache_dates, iterator, chunksize, compression, thousands, decimal, lineterminator, quotechar, quoting, doublequote, escapechar, comment, encoding, encoding_errors, dialect, error_bad_lines, warn_bad_lines, on_bad_lines, delim_whitespace, low_memory, memory_map, float_precision, storage_options)\u001b[0m\n\u001b[1;32m    584\u001b[0m     \u001b[0mkwds\u001b[0m\u001b[0;34m.\u001b[0m\u001b[0mupdate\u001b[0m\u001b[0;34m(\u001b[0m\u001b[0mkwds_defaults\u001b[0m\u001b[0;34m)\u001b[0m\u001b[0;34m\u001b[0m\u001b[0;34m\u001b[0m\u001b[0m\n\u001b[1;32m    585\u001b[0m \u001b[0;34m\u001b[0m\u001b[0m\n\u001b[0;32m--> 586\u001b[0;31m     \u001b[0;32mreturn\u001b[0m \u001b[0m_read\u001b[0m\u001b[0;34m(\u001b[0m\u001b[0mfilepath_or_buffer\u001b[0m\u001b[0;34m,\u001b[0m \u001b[0mkwds\u001b[0m\u001b[0;34m)\u001b[0m\u001b[0;34m\u001b[0m\u001b[0;34m\u001b[0m\u001b[0m\n\u001b[0m\u001b[1;32m    587\u001b[0m \u001b[0;34m\u001b[0m\u001b[0m\n\u001b[1;32m    588\u001b[0m \u001b[0;34m\u001b[0m\u001b[0m\n",
            "\u001b[0;32m/usr/local/lib/python3.7/dist-packages/pandas/io/parsers/readers.py\u001b[0m in \u001b[0;36m_read\u001b[0;34m(filepath_or_buffer, kwds)\u001b[0m\n\u001b[1;32m    480\u001b[0m \u001b[0;34m\u001b[0m\u001b[0m\n\u001b[1;32m    481\u001b[0m     \u001b[0;31m# Create the parser.\u001b[0m\u001b[0;34m\u001b[0m\u001b[0;34m\u001b[0m\u001b[0;34m\u001b[0m\u001b[0m\n\u001b[0;32m--> 482\u001b[0;31m     \u001b[0mparser\u001b[0m \u001b[0;34m=\u001b[0m \u001b[0mTextFileReader\u001b[0m\u001b[0;34m(\u001b[0m\u001b[0mfilepath_or_buffer\u001b[0m\u001b[0;34m,\u001b[0m \u001b[0;34m**\u001b[0m\u001b[0mkwds\u001b[0m\u001b[0;34m)\u001b[0m\u001b[0;34m\u001b[0m\u001b[0;34m\u001b[0m\u001b[0m\n\u001b[0m\u001b[1;32m    483\u001b[0m \u001b[0;34m\u001b[0m\u001b[0m\n\u001b[1;32m    484\u001b[0m     \u001b[0;32mif\u001b[0m \u001b[0mchunksize\u001b[0m \u001b[0;32mor\u001b[0m \u001b[0miterator\u001b[0m\u001b[0;34m:\u001b[0m\u001b[0;34m\u001b[0m\u001b[0;34m\u001b[0m\u001b[0m\n",
            "\u001b[0;32m/usr/local/lib/python3.7/dist-packages/pandas/io/parsers/readers.py\u001b[0m in \u001b[0;36m__init__\u001b[0;34m(self, f, engine, **kwds)\u001b[0m\n\u001b[1;32m    809\u001b[0m             \u001b[0mself\u001b[0m\u001b[0;34m.\u001b[0m\u001b[0moptions\u001b[0m\u001b[0;34m[\u001b[0m\u001b[0;34m\"has_index_names\"\u001b[0m\u001b[0;34m]\u001b[0m \u001b[0;34m=\u001b[0m \u001b[0mkwds\u001b[0m\u001b[0;34m[\u001b[0m\u001b[0;34m\"has_index_names\"\u001b[0m\u001b[0;34m]\u001b[0m\u001b[0;34m\u001b[0m\u001b[0;34m\u001b[0m\u001b[0m\n\u001b[1;32m    810\u001b[0m \u001b[0;34m\u001b[0m\u001b[0m\n\u001b[0;32m--> 811\u001b[0;31m         \u001b[0mself\u001b[0m\u001b[0;34m.\u001b[0m\u001b[0m_engine\u001b[0m \u001b[0;34m=\u001b[0m \u001b[0mself\u001b[0m\u001b[0;34m.\u001b[0m\u001b[0m_make_engine\u001b[0m\u001b[0;34m(\u001b[0m\u001b[0mself\u001b[0m\u001b[0;34m.\u001b[0m\u001b[0mengine\u001b[0m\u001b[0;34m)\u001b[0m\u001b[0;34m\u001b[0m\u001b[0;34m\u001b[0m\u001b[0m\n\u001b[0m\u001b[1;32m    812\u001b[0m \u001b[0;34m\u001b[0m\u001b[0m\n\u001b[1;32m    813\u001b[0m     \u001b[0;32mdef\u001b[0m \u001b[0mclose\u001b[0m\u001b[0;34m(\u001b[0m\u001b[0mself\u001b[0m\u001b[0;34m)\u001b[0m\u001b[0;34m:\u001b[0m\u001b[0;34m\u001b[0m\u001b[0;34m\u001b[0m\u001b[0m\n",
            "\u001b[0;32m/usr/local/lib/python3.7/dist-packages/pandas/io/parsers/readers.py\u001b[0m in \u001b[0;36m_make_engine\u001b[0;34m(self, engine)\u001b[0m\n\u001b[1;32m   1038\u001b[0m             )\n\u001b[1;32m   1039\u001b[0m         \u001b[0;31m# error: Too many arguments for \"ParserBase\"\u001b[0m\u001b[0;34m\u001b[0m\u001b[0;34m\u001b[0m\u001b[0;34m\u001b[0m\u001b[0m\n\u001b[0;32m-> 1040\u001b[0;31m         \u001b[0;32mreturn\u001b[0m \u001b[0mmapping\u001b[0m\u001b[0;34m[\u001b[0m\u001b[0mengine\u001b[0m\u001b[0;34m]\u001b[0m\u001b[0;34m(\u001b[0m\u001b[0mself\u001b[0m\u001b[0;34m.\u001b[0m\u001b[0mf\u001b[0m\u001b[0;34m,\u001b[0m \u001b[0;34m**\u001b[0m\u001b[0mself\u001b[0m\u001b[0;34m.\u001b[0m\u001b[0moptions\u001b[0m\u001b[0;34m)\u001b[0m  \u001b[0;31m# type: ignore[call-arg]\u001b[0m\u001b[0;34m\u001b[0m\u001b[0;34m\u001b[0m\u001b[0m\n\u001b[0m\u001b[1;32m   1041\u001b[0m \u001b[0;34m\u001b[0m\u001b[0m\n\u001b[1;32m   1042\u001b[0m     \u001b[0;32mdef\u001b[0m \u001b[0m_failover_to_python\u001b[0m\u001b[0;34m(\u001b[0m\u001b[0mself\u001b[0m\u001b[0;34m)\u001b[0m\u001b[0;34m:\u001b[0m\u001b[0;34m\u001b[0m\u001b[0;34m\u001b[0m\u001b[0m\n",
            "\u001b[0;32m/usr/local/lib/python3.7/dist-packages/pandas/io/parsers/c_parser_wrapper.py\u001b[0m in \u001b[0;36m__init__\u001b[0;34m(self, src, **kwds)\u001b[0m\n\u001b[1;32m     49\u001b[0m \u001b[0;34m\u001b[0m\u001b[0m\n\u001b[1;32m     50\u001b[0m         \u001b[0;31m# open handles\u001b[0m\u001b[0;34m\u001b[0m\u001b[0;34m\u001b[0m\u001b[0;34m\u001b[0m\u001b[0m\n\u001b[0;32m---> 51\u001b[0;31m         \u001b[0mself\u001b[0m\u001b[0;34m.\u001b[0m\u001b[0m_open_handles\u001b[0m\u001b[0;34m(\u001b[0m\u001b[0msrc\u001b[0m\u001b[0;34m,\u001b[0m \u001b[0mkwds\u001b[0m\u001b[0;34m)\u001b[0m\u001b[0;34m\u001b[0m\u001b[0;34m\u001b[0m\u001b[0m\n\u001b[0m\u001b[1;32m     52\u001b[0m         \u001b[0;32massert\u001b[0m \u001b[0mself\u001b[0m\u001b[0;34m.\u001b[0m\u001b[0mhandles\u001b[0m \u001b[0;32mis\u001b[0m \u001b[0;32mnot\u001b[0m \u001b[0;32mNone\u001b[0m\u001b[0;34m\u001b[0m\u001b[0;34m\u001b[0m\u001b[0m\n\u001b[1;32m     53\u001b[0m \u001b[0;34m\u001b[0m\u001b[0m\n",
            "\u001b[0;32m/usr/local/lib/python3.7/dist-packages/pandas/io/parsers/base_parser.py\u001b[0m in \u001b[0;36m_open_handles\u001b[0;34m(self, src, kwds)\u001b[0m\n\u001b[1;32m    227\u001b[0m             \u001b[0mmemory_map\u001b[0m\u001b[0;34m=\u001b[0m\u001b[0mkwds\u001b[0m\u001b[0;34m.\u001b[0m\u001b[0mget\u001b[0m\u001b[0;34m(\u001b[0m\u001b[0;34m\"memory_map\"\u001b[0m\u001b[0;34m,\u001b[0m \u001b[0;32mFalse\u001b[0m\u001b[0;34m)\u001b[0m\u001b[0;34m,\u001b[0m\u001b[0;34m\u001b[0m\u001b[0;34m\u001b[0m\u001b[0m\n\u001b[1;32m    228\u001b[0m             \u001b[0mstorage_options\u001b[0m\u001b[0;34m=\u001b[0m\u001b[0mkwds\u001b[0m\u001b[0;34m.\u001b[0m\u001b[0mget\u001b[0m\u001b[0;34m(\u001b[0m\u001b[0;34m\"storage_options\"\u001b[0m\u001b[0;34m,\u001b[0m \u001b[0;32mNone\u001b[0m\u001b[0;34m)\u001b[0m\u001b[0;34m,\u001b[0m\u001b[0;34m\u001b[0m\u001b[0;34m\u001b[0m\u001b[0m\n\u001b[0;32m--> 229\u001b[0;31m             \u001b[0merrors\u001b[0m\u001b[0;34m=\u001b[0m\u001b[0mkwds\u001b[0m\u001b[0;34m.\u001b[0m\u001b[0mget\u001b[0m\u001b[0;34m(\u001b[0m\u001b[0;34m\"encoding_errors\"\u001b[0m\u001b[0;34m,\u001b[0m \u001b[0;34m\"strict\"\u001b[0m\u001b[0;34m)\u001b[0m\u001b[0;34m,\u001b[0m\u001b[0;34m\u001b[0m\u001b[0;34m\u001b[0m\u001b[0m\n\u001b[0m\u001b[1;32m    230\u001b[0m         )\n\u001b[1;32m    231\u001b[0m \u001b[0;34m\u001b[0m\u001b[0m\n",
            "\u001b[0;32m/usr/local/lib/python3.7/dist-packages/pandas/io/common.py\u001b[0m in \u001b[0;36mget_handle\u001b[0;34m(path_or_buf, mode, encoding, compression, memory_map, is_text, errors, storage_options)\u001b[0m\n\u001b[1;32m    705\u001b[0m                 \u001b[0mencoding\u001b[0m\u001b[0;34m=\u001b[0m\u001b[0mioargs\u001b[0m\u001b[0;34m.\u001b[0m\u001b[0mencoding\u001b[0m\u001b[0;34m,\u001b[0m\u001b[0;34m\u001b[0m\u001b[0;34m\u001b[0m\u001b[0m\n\u001b[1;32m    706\u001b[0m                 \u001b[0merrors\u001b[0m\u001b[0;34m=\u001b[0m\u001b[0merrors\u001b[0m\u001b[0;34m,\u001b[0m\u001b[0;34m\u001b[0m\u001b[0;34m\u001b[0m\u001b[0m\n\u001b[0;32m--> 707\u001b[0;31m                 \u001b[0mnewline\u001b[0m\u001b[0;34m=\u001b[0m\u001b[0;34m\"\"\u001b[0m\u001b[0;34m,\u001b[0m\u001b[0;34m\u001b[0m\u001b[0;34m\u001b[0m\u001b[0m\n\u001b[0m\u001b[1;32m    708\u001b[0m             )\n\u001b[1;32m    709\u001b[0m         \u001b[0;32melse\u001b[0m\u001b[0;34m:\u001b[0m\u001b[0;34m\u001b[0m\u001b[0;34m\u001b[0m\u001b[0m\n",
            "\u001b[0;31mFileNotFoundError\u001b[0m: [Errno 2] No such file or directory: 'data.csv'"
          ]
        }
      ]
    },
    {
      "cell_type": "markdown",
      "source": [
        ""
      ],
      "metadata": {
        "id": "DIlS1oaA8Qel"
      }
    }
  ]
}